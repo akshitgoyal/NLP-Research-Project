{
 "cells": [
  {
   "cell_type": "markdown",
   "metadata": {},
   "source": [
    "<h1>                           CSC398 Report: Participation in Big Data Conferences </h1>\n",
    "<h3>Submitted by: Akshit Goyal (1005095068)</h3>\n",
    "\n",
    "<br> \n",
    "\n",
    "\n",
    "\n",
    "                                           "
   ]
  },
  {
   "cell_type": "markdown",
   "metadata": {},
   "source": [
    "### Introduction"
   ]
  },
  {
   "cell_type": "markdown",
   "metadata": {},
   "source": [
    "The purpose of this report is to analyse the participation of people in a particularly chosen Big Data Conference i.e. IEEE International Conference on Big Data. The participation in technology is changing over the years. It is important to analyse the trends and address the issues of under representation of certain ethinic groups and genders. This report is an attempt to get an insight into how the community is represented and how its diversity changes over the years in the area of Big Data. To be specific, we will be looking at the years 2016-2020.\n",
    "\n",
    "To achieve this, we will be testing multiple hypothesis. We will be testing the change in population, representation of genders and various ethnic groups. \n",
    "\n",
    "<b> Data Collection: </b> In order to test these hypothesis, we had to collect relevant data. This was achieved by a web scrapper tool called Scrapy to extract names from the conference websites. Further information on names like gender and race ethnicity was obtained using a paid API i.e. NamSor. "
   ]
  },
  {
   "cell_type": "markdown",
   "metadata": {},
   "source": [
    "### <b> Hypothesis: </b> Number of people attending the Big Data conference increases each year. \n",
    "\n",
    "The number of participants vary each year and the new technologies coming up rapidly and also new fields being introduced, it would interesting to test this hypothesis to measure the impact on Big Data conferences.\n",
    "\n",
    "To test this, we will be using Linear Regression. <br>\n",
    "First we will set our Null Hypothesis first. <br>\n",
    "\n",
    "<b>Null Hypothesis:</b> Population remains the same over the years. <br>\n",
    "This implies that our coeffecient of x i.e. B(Beta Value) in a linear regression model(y = Bx + c) must be 0. \n",
    "\n",
    "In the analysis, we will be using various python libraries for testing  this.  "
   ]
  },
  {
   "cell_type": "markdown",
   "metadata": {},
   "source": [
    "#### Analysis"
   ]
  },
  {
   "cell_type": "code",
   "execution_count": 1,
   "metadata": {
    "scrolled": true
   },
   "outputs": [],
   "source": [
    "import csv\n",
    "import numpy as np\n",
    "import pandas as pd \n",
    "import matplotlib.pyplot as plt \n",
    "import statsmodels.api as sm"
   ]
  },
  {
   "cell_type": "code",
   "execution_count": 9,
   "metadata": {},
   "outputs": [
    {
     "data": {
      "text/html": [
       "<div>\n",
       "<style scoped>\n",
       "    .dataframe tbody tr th:only-of-type {\n",
       "        vertical-align: middle;\n",
       "    }\n",
       "\n",
       "    .dataframe tbody tr th {\n",
       "        vertical-align: top;\n",
       "    }\n",
       "\n",
       "    .dataframe thead th {\n",
       "        text-align: right;\n",
       "    }\n",
       "</style>\n",
       "<table border=\"1\" class=\"dataframe\">\n",
       "  <thead>\n",
       "    <tr style=\"text-align: right;\">\n",
       "      <th></th>\n",
       "      <th>Year</th>\n",
       "      <th>Population</th>\n",
       "    </tr>\n",
       "  </thead>\n",
       "  <tbody>\n",
       "    <tr>\n",
       "      <th>0</th>\n",
       "      <td>1</td>\n",
       "      <td>330</td>\n",
       "    </tr>\n",
       "    <tr>\n",
       "      <th>1</th>\n",
       "      <td>2</td>\n",
       "      <td>400</td>\n",
       "    </tr>\n",
       "    <tr>\n",
       "      <th>2</th>\n",
       "      <td>3</td>\n",
       "      <td>470</td>\n",
       "    </tr>\n",
       "    <tr>\n",
       "      <th>3</th>\n",
       "      <td>4</td>\n",
       "      <td>445</td>\n",
       "    </tr>\n",
       "    <tr>\n",
       "      <th>4</th>\n",
       "      <td>5</td>\n",
       "      <td>446</td>\n",
       "    </tr>\n",
       "  </tbody>\n",
       "</table>\n",
       "</div>"
      ],
      "text/plain": [
       "   Year  Population\n",
       "0     1         330\n",
       "1     2         400\n",
       "2     3         470\n",
       "3     4         445\n",
       "4     5         446"
      ]
     },
     "execution_count": 9,
     "metadata": {},
     "output_type": "execute_result"
    }
   ],
   "source": [
    "# Read population data from the CSV file.\n",
    "data = pd.read_csv(\"population_data.csv\")\n",
    "data\n",
    "# Year 1 corresponds to '2016' and similarly other index values map to consective years untill 2020 i.e. 5."
   ]
  },
  {
   "cell_type": "code",
   "execution_count": 3,
   "metadata": {},
   "outputs": [
    {
     "data": {
      "text/html": [
       "<div>\n",
       "<style scoped>\n",
       "    .dataframe tbody tr th:only-of-type {\n",
       "        vertical-align: middle;\n",
       "    }\n",
       "\n",
       "    .dataframe tbody tr th {\n",
       "        vertical-align: top;\n",
       "    }\n",
       "\n",
       "    .dataframe thead th {\n",
       "        text-align: right;\n",
       "    }\n",
       "</style>\n",
       "<table border=\"1\" class=\"dataframe\">\n",
       "  <thead>\n",
       "    <tr style=\"text-align: right;\">\n",
       "      <th></th>\n",
       "      <th>Year</th>\n",
       "      <th>Population</th>\n",
       "    </tr>\n",
       "  </thead>\n",
       "  <tbody>\n",
       "    <tr>\n",
       "      <th>count</th>\n",
       "      <td>5.000000</td>\n",
       "      <td>5.000000</td>\n",
       "    </tr>\n",
       "    <tr>\n",
       "      <th>mean</th>\n",
       "      <td>3.000000</td>\n",
       "      <td>418.200000</td>\n",
       "    </tr>\n",
       "    <tr>\n",
       "      <th>std</th>\n",
       "      <td>1.581139</td>\n",
       "      <td>55.418408</td>\n",
       "    </tr>\n",
       "    <tr>\n",
       "      <th>min</th>\n",
       "      <td>1.000000</td>\n",
       "      <td>330.000000</td>\n",
       "    </tr>\n",
       "    <tr>\n",
       "      <th>25%</th>\n",
       "      <td>2.000000</td>\n",
       "      <td>400.000000</td>\n",
       "    </tr>\n",
       "    <tr>\n",
       "      <th>50%</th>\n",
       "      <td>3.000000</td>\n",
       "      <td>445.000000</td>\n",
       "    </tr>\n",
       "    <tr>\n",
       "      <th>75%</th>\n",
       "      <td>4.000000</td>\n",
       "      <td>446.000000</td>\n",
       "    </tr>\n",
       "    <tr>\n",
       "      <th>max</th>\n",
       "      <td>5.000000</td>\n",
       "      <td>470.000000</td>\n",
       "    </tr>\n",
       "  </tbody>\n",
       "</table>\n",
       "</div>"
      ],
      "text/plain": [
       "           Year  Population\n",
       "count  5.000000    5.000000\n",
       "mean   3.000000  418.200000\n",
       "std    1.581139   55.418408\n",
       "min    1.000000  330.000000\n",
       "25%    2.000000  400.000000\n",
       "50%    3.000000  445.000000\n",
       "75%    4.000000  446.000000\n",
       "max    5.000000  470.000000"
      ]
     },
     "execution_count": 3,
     "metadata": {},
     "output_type": "execute_result"
    }
   ],
   "source": [
    "data.describe()"
   ]
  },
  {
   "cell_type": "markdown",
   "metadata": {},
   "source": [
    "#### Define the dependent(y) and the independent variable(x1)"
   ]
  },
  {
   "cell_type": "code",
   "execution_count": 4,
   "metadata": {},
   "outputs": [],
   "source": [
    "y = data['Population']\n",
    "x1 = data['Year']"
   ]
  },
  {
   "cell_type": "markdown",
   "metadata": {},
   "source": [
    "#### Explore the Data"
   ]
  },
  {
   "cell_type": "code",
   "execution_count": 5,
   "metadata": {},
   "outputs": [
    {
     "data": {
      "image/png": "[encoded data removed]",
      "text/plain": [
       "<Figure size 432x288 with 1 Axes>"
      ]
     },
     "metadata": {
      "needs_background": "light"
     },
     "output_type": "display_data"
    }
   ],
   "source": [
    "plt.scatter(x1,y) \n",
    "plt.xlabel('Year', fontsize = 20) \n",
    "plt.ylabel('Population', fontsize = 20)\n",
    "plt.show()"
   ]
  },
  {
   "cell_type": "markdown",
   "metadata": {},
   "source": [
    "Now we will plot a regression line on the above scatter plot.\n",
    "\n",
    "#### Regression"
   ]
  },
  {
   "cell_type": "code",
   "execution_count": 6,
   "metadata": {},
   "outputs": [
    {
     "name": "stderr",
     "output_type": "stream",
     "text": [
      "/home/akki/anaconda3/lib/python3.7/site-packages/statsmodels/stats/stattools.py:71: ValueWarning: omni_normtest is not valid with less than 8 observations; 5 samples were given.\n",
      "  \"samples were given.\" % int(n), ValueWarning)\n"
     ]
    },
    {
     "data": {
      "text/html": [
       "<table class=\"simpletable\">\n",
       "<caption>OLS Regression Results</caption>\n",
       "<tr>\n",
       "  <th>Dep. Variable:</th>       <td>Population</td>    <th>  R-squared:         </th> <td>   0.625</td>\n",
       "</tr>\n",
       "<tr>\n",
       "  <th>Model:</th>                   <td>OLS</td>       <th>  Adj. R-squared:    </th> <td>   0.499</td>\n",
       "</tr>\n",
       "<tr>\n",
       "  <th>Method:</th>             <td>Least Squares</td>  <th>  F-statistic:       </th> <td>   4.991</td>\n",
       "</tr>\n",
       "<tr>\n",
       "  <th>Date:</th>             <td>Thu, 16 Jul 2020</td> <th>  Prob (F-statistic):</th>  <td> 0.112</td> \n",
       "</tr>\n",
       "<tr>\n",
       "  <th>Time:</th>                 <td>13:53:54</td>     <th>  Log-Likelihood:    </th> <td> -24.162</td>\n",
       "</tr>\n",
       "<tr>\n",
       "  <th>No. Observations:</th>      <td>     5</td>      <th>  AIC:               </th> <td>   52.32</td>\n",
       "</tr>\n",
       "<tr>\n",
       "  <th>Df Residuals:</th>          <td>     3</td>      <th>  BIC:               </th> <td>   51.54</td>\n",
       "</tr>\n",
       "<tr>\n",
       "  <th>Df Model:</th>              <td>     1</td>      <th>                     </th>     <td> </td>   \n",
       "</tr>\n",
       "<tr>\n",
       "  <th>Covariance Type:</th>      <td>nonrobust</td>    <th>                     </th>     <td> </td>   \n",
       "</tr>\n",
       "</table>\n",
       "<table class=\"simpletable\">\n",
       "<tr>\n",
       "    <td></td>       <th>coef</th>     <th>std err</th>      <th>t</th>      <th>P>|t|</th>  <th>[0.025</th>    <th>0.975]</th>  \n",
       "</tr>\n",
       "<tr>\n",
       "  <th>const</th> <td>  335.1000</td> <td>   41.122</td> <td>    8.149</td> <td> 0.004</td> <td>  204.231</td> <td>  465.969</td>\n",
       "</tr>\n",
       "<tr>\n",
       "  <th>Year</th>  <td>   27.7000</td> <td>   12.399</td> <td>    2.234</td> <td> 0.112</td> <td>  -11.758</td> <td>   67.158</td>\n",
       "</tr>\n",
       "</table>\n",
       "<table class=\"simpletable\">\n",
       "<tr>\n",
       "  <th>Omnibus:</th>       <td>   nan</td> <th>  Durbin-Watson:     </th> <td>   1.533</td>\n",
       "</tr>\n",
       "<tr>\n",
       "  <th>Prob(Omnibus):</th> <td>   nan</td> <th>  Jarque-Bera (JB):  </th> <td>   0.464</td>\n",
       "</tr>\n",
       "<tr>\n",
       "  <th>Skew:</th>          <td> 0.596</td> <th>  Prob(JB):          </th> <td>   0.793</td>\n",
       "</tr>\n",
       "<tr>\n",
       "  <th>Kurtosis:</th>      <td> 2.103</td> <th>  Cond. No.          </th> <td>    8.37</td>\n",
       "</tr>\n",
       "</table><br/><br/>Warnings:<br/>[1] Standard Errors assume that the covariance matrix of the errors is correctly specified."
      ],
      "text/plain": [
       "<class 'statsmodels.iolib.summary.Summary'>\n",
       "\"\"\"\n",
       "                            OLS Regression Results                            \n",
       "==============================================================================\n",
       "Dep. Variable:             Population   R-squared:                       0.625\n",
       "Model:                            OLS   Adj. R-squared:                  0.499\n",
       "Method:                 Least Squares   F-statistic:                     4.991\n",
       "Date:                Thu, 16 Jul 2020   Prob (F-statistic):              0.112\n",
       "Time:                        13:53:54   Log-Likelihood:                -24.162\n",
       "No. Observations:                   5   AIC:                             52.32\n",
       "Df Residuals:                       3   BIC:                             51.54\n",
       "Df Model:                           1                                         \n",
       "Covariance Type:            nonrobust                                         \n",
       "==============================================================================\n",
       "                 coef    std err          t      P>|t|      [0.025      0.975]\n",
       "------------------------------------------------------------------------------\n",
       "const        335.1000     41.122      8.149      0.004     204.231     465.969\n",
       "Year          27.7000     12.399      2.234      0.112     -11.758      67.158\n",
       "==============================================================================\n",
       "Omnibus:                          nan   Durbin-Watson:                   1.533\n",
       "Prob(Omnibus):                    nan   Jarque-Bera (JB):                0.464\n",
       "Skew:                           0.596   Prob(JB):                        0.793\n",
       "Kurtosis:                       2.103   Cond. No.                         8.37\n",
       "==============================================================================\n",
       "\n",
       "Warnings:\n",
       "[1] Standard Errors assume that the covariance matrix of the errors is correctly specified.\n",
       "\"\"\""
      ]
     },
     "execution_count": 6,
     "metadata": {},
     "output_type": "execute_result"
    }
   ],
   "source": [
    "x = sm.add_constant(x1) \n",
    "results = sm.OLS(y,x).fit()\n",
    "results.summary()"
   ]
  },
  {
   "cell_type": "markdown",
   "metadata": {},
   "source": [
    "####  Plotting the Regression"
   ]
  },
  {
   "cell_type": "code",
   "execution_count": 7,
   "metadata": {
    "scrolled": true
   },
   "outputs": [
    {
     "data": {
      "image/png": "[encoded data removed]",
      "text/plain": [
       "<Figure size 432x288 with 1 Axes>"
      ]
     },
     "metadata": {
      "needs_background": "light"
     },
     "output_type": "display_data"
    }
   ],
   "source": [
    "plt.scatter(x1,y) \n",
    "yhat = 27.7000*x1 + 335.1000 #These values are from Regression Table. 27.700 is Year coef and 335.1 is constant.\n",
    "fig = plt.plot(x1,yhat, lw=4, c='orange', label = 'regression line') \n",
    "plt.xlabel('Year', fontsize = 20) \n",
    "plt.ylabel('Population', fontsize = 20) \n",
    "plt.xlim(0)\n",
    "plt.ylim(0)\n",
    "plt.show()"
   ]
  },
  {
   "cell_type": "markdown",
   "metadata": {},
   "source": [
    "We can see from the regression table and our graph that the B value(coeffecient of x) is non-zero. Therefore, our Null-Hypothesis is not true.  \n",
    "\n",
    "This implies that the alternative hypothesis i.e. the population is changing each year. Since our B > 0, it must be increasing. \n",
    "\n",
    "Aditionally, to  verify our hypothesis we can look at the  p value. pvalue = 0.004 which means that this trend on increasing participation is not by chance. This also rejects are null hypothesis and supports our alternative hypothesis.\n",
    "\n",
    "There is another important factor to note here that due COVID-19, the conference in 2020 (data point 5) must be rescheduled or does not represent the actual population data which might decrease the participation. However, we still see an increasing trend overall.\n",
    "\n",
    "<b> Therefore, by linear regression and p-value, our hypothesis is valid for these data points. However, due to limited  amount of data (5 years) and possible bias in 2020 data, we cannot make a strong conclusion about increase in number of people attending the conference. </b>\n"
   ]
  },
  {
   "cell_type": "markdown",
   "metadata": {},
   "source": [
    "<br>"
   ]
  },
  {
   "cell_type": "markdown",
   "metadata": {},
   "source": [
    "### <b> Second Hypothesis: </b> The female participation in Big Data conferences has not improved over the years."
   ]
  },
  {
   "cell_type": "markdown",
   "metadata": {},
   "source": [
    "I decided to test this hypothesis because it is very crucial as womnen in tech are usually under-represented. It is important to analyse and study these data, so their participation can be encouraged more. Even though more and more women are being encouraged and welcomed in the tech field, I still feel they are under-represented.\n",
    "<br>"
   ]
  },
  {
   "cell_type": "markdown",
   "metadata": {},
   "source": [
    "In order to determine the gender of the participants, I used NamSor tool which tells me about the likely gender of each participant. \n",
    "It is important to note that I judged the accuracy of results of NamSor tool based on two evidences. First, I performed manual analysis of the known names whose genders I am aware about. It matched all the actual genders. \n",
    "Secondly, all the names have a confidence probabilty of over 0.96 which is very high. "
   ]
  },
  {
   "cell_type": "markdown",
   "metadata": {},
   "source": [
    "#### Data Representation"
   ]
  },
  {
   "cell_type": "code",
   "execution_count": 7,
   "metadata": {},
   "outputs": [
    {
     "data": {
      "image/png": "[encoded data removed]",
      "text/plain": [
       "<Figure size 432x288 with 1 Axes>"
      ]
     },
     "metadata": {
      "needs_background": "light"
     },
     "output_type": "display_data"
    }
   ],
   "source": [
    "import pandas as pd\n",
    "import numpy as np\n",
    "import matplotlib.pyplot as plt\n",
    "# data to plot\n",
    "# Read gender data from the CSV file.\n",
    "gender_data = pd.read_csv(\"gender_data.csv\")\n",
    "gender_data\n",
    "# Year 1 corresponds to '2016' and similarly other index values map to consective years untill 2020 i.e. 5.\n",
    "x = gender_data[\"Year\"]\n",
    "y1 = gender_data[\"Male\"]\n",
    "y2 = gender_data[\"Female\"]\n",
    "\n",
    "# create a plot\n",
    "fig, ax = plt.subplots()\n",
    "index = np.arange(5)\n",
    "bar_width = 0.35\n",
    "opacity = 0.8\n",
    "\n",
    "rects1 = plt.bar(index, y2, bar_width,\n",
    "alpha=opacity,\n",
    "color='b',\n",
    "label='Female')\n",
    "\n",
    "rects2 = plt.bar(index + bar_width, y1, bar_width,\n",
    "alpha=opacity,\n",
    "color='g',\n",
    "label='Male')\n",
    "\n",
    "plt.xlabel('Years')\n",
    "plt.ylabel('Males and Females')\n",
    "plt.title('Female to Male Ratio')\n",
    "plt.xticks(index + bar_width, \n",
    "           ('2016', '2017', '2018', '2019','2020'))\n",
    "plt.legend()\n",
    "\n",
    "plt.tight_layout()\n",
    "plt.show()\n"
   ]
  },
  {
   "cell_type": "markdown",
   "metadata": {},
   "source": [
    "Looking at the bar, graph we  can clearly see the under-representation of women in the technology especially in Big Data. However, we need to verify our claim statisticly. \n",
    "\n",
    "To verify my claim, I will be using Linear Regression and also look at the p-value after the analysis to support my claims.\n",
    "\n",
    "Therefore, we need a Null Hypothesis and Alternative Hypothesis.\n",
    "\n",
    "<b> Null Hypothesis: </b> The female ratio remains same over the years, i.e. B(beta) value which is co-effecient of x in linear regression remains 0.\n",
    "\n",
    "<b> Alternative Hypothesis: </b> The female ratio changes over the years i.e. B != 0\n",
    "\n",
    "#### Linear Regression"
   ]
  },
  {
   "cell_type": "code",
   "execution_count": 9,
   "metadata": {
    "scrolled": false
   },
   "outputs": [
    {
     "name": "stderr",
     "output_type": "stream",
     "text": [
      "/home/akki/anaconda3/lib/python3.7/site-packages/statsmodels/stats/stattools.py:71: ValueWarning: omni_normtest is not valid with less than 8 observations; 5 samples were given.\n",
      "  \"samples were given.\" % int(n), ValueWarning)\n"
     ]
    },
    {
     "data": {
      "text/html": [
       "<table class=\"simpletable\">\n",
       "<caption>OLS Regression Results</caption>\n",
       "<tr>\n",
       "  <th>Dep. Variable:</th>      <td>Female Ratio</td>   <th>  R-squared:         </th> <td>   0.252</td>\n",
       "</tr>\n",
       "<tr>\n",
       "  <th>Model:</th>                   <td>OLS</td>       <th>  Adj. R-squared:    </th> <td>   0.003</td>\n",
       "</tr>\n",
       "<tr>\n",
       "  <th>Method:</th>             <td>Least Squares</td>  <th>  F-statistic:       </th> <td>   1.011</td>\n",
       "</tr>\n",
       "<tr>\n",
       "  <th>Date:</th>             <td>Sat, 18 Jul 2020</td> <th>  Prob (F-statistic):</th>  <td> 0.389</td> \n",
       "</tr>\n",
       "<tr>\n",
       "  <th>Time:</th>                 <td>00:31:56</td>     <th>  Log-Likelihood:    </th> <td>  11.243</td>\n",
       "</tr>\n",
       "<tr>\n",
       "  <th>No. Observations:</th>      <td>     5</td>      <th>  AIC:               </th> <td>  -18.49</td>\n",
       "</tr>\n",
       "<tr>\n",
       "  <th>Df Residuals:</th>          <td>     3</td>      <th>  BIC:               </th> <td>  -19.27</td>\n",
       "</tr>\n",
       "<tr>\n",
       "  <th>Df Model:</th>              <td>     1</td>      <th>                     </th>     <td> </td>   \n",
       "</tr>\n",
       "<tr>\n",
       "  <th>Covariance Type:</th>      <td>nonrobust</td>    <th>                     </th>     <td> </td>   \n",
       "</tr>\n",
       "</table>\n",
       "<table class=\"simpletable\">\n",
       "<tr>\n",
       "    <td></td>       <th>coef</th>     <th>std err</th>      <th>t</th>      <th>P>|t|</th>  <th>[0.025</th>    <th>0.975]</th>  \n",
       "</tr>\n",
       "<tr>\n",
       "  <th>const</th> <td>    0.2272</td> <td>    0.035</td> <td>    6.571</td> <td> 0.007</td> <td>    0.117</td> <td>    0.337</td>\n",
       "</tr>\n",
       "<tr>\n",
       "  <th>Year</th>  <td>   -0.0105</td> <td>    0.010</td> <td>   -1.005</td> <td> 0.389</td> <td>   -0.044</td> <td>    0.023</td>\n",
       "</tr>\n",
       "</table>\n",
       "<table class=\"simpletable\">\n",
       "<tr>\n",
       "  <th>Omnibus:</th>       <td>   nan</td> <th>  Durbin-Watson:     </th> <td>   2.184</td>\n",
       "</tr>\n",
       "<tr>\n",
       "  <th>Prob(Omnibus):</th> <td>   nan</td> <th>  Jarque-Bera (JB):  </th> <td>   0.277</td>\n",
       "</tr>\n",
       "<tr>\n",
       "  <th>Skew:</th>          <td>-0.341</td> <th>  Prob(JB):          </th> <td>   0.871</td>\n",
       "</tr>\n",
       "<tr>\n",
       "  <th>Kurtosis:</th>      <td> 2.070</td> <th>  Cond. No.          </th> <td>    8.37</td>\n",
       "</tr>\n",
       "</table><br/><br/>Warnings:<br/>[1] Standard Errors assume that the covariance matrix of the errors is correctly specified."
      ],
      "text/plain": [
       "<class 'statsmodels.iolib.summary.Summary'>\n",
       "\"\"\"\n",
       "                            OLS Regression Results                            \n",
       "==============================================================================\n",
       "Dep. Variable:           Female Ratio   R-squared:                       0.252\n",
       "Model:                            OLS   Adj. R-squared:                  0.003\n",
       "Method:                 Least Squares   F-statistic:                     1.011\n",
       "Date:                Sat, 18 Jul 2020   Prob (F-statistic):              0.389\n",
       "Time:                        00:31:56   Log-Likelihood:                 11.243\n",
       "No. Observations:                   5   AIC:                            -18.49\n",
       "Df Residuals:                       3   BIC:                            -19.27\n",
       "Df Model:                           1                                         \n",
       "Covariance Type:            nonrobust                                         \n",
       "==============================================================================\n",
       "                 coef    std err          t      P>|t|      [0.025      0.975]\n",
       "------------------------------------------------------------------------------\n",
       "const          0.2272      0.035      6.571      0.007       0.117       0.337\n",
       "Year          -0.0105      0.010     -1.005      0.389      -0.044       0.023\n",
       "==============================================================================\n",
       "Omnibus:                          nan   Durbin-Watson:                   2.184\n",
       "Prob(Omnibus):                    nan   Jarque-Bera (JB):                0.277\n",
       "Skew:                          -0.341   Prob(JB):                        0.871\n",
       "Kurtosis:                       2.070   Cond. No.                         8.37\n",
       "==============================================================================\n",
       "\n",
       "Warnings:\n",
       "[1] Standard Errors assume that the covariance matrix of the errors is correctly specified.\n",
       "\"\"\""
      ]
     },
     "execution_count": 9,
     "metadata": {},
     "output_type": "execute_result"
    }
   ],
   "source": [
    "import statsmodels.api as sm\n",
    "y3 = gender_data[\"Female Ratio\"]\n",
    "x1 = sm.add_constant(x) \n",
    "results = sm.OLS(y3,x1).fit()\n",
    "results.summary()"
   ]
  },
  {
   "cell_type": "code",
   "execution_count": 11,
   "metadata": {},
   "outputs": [
    {
     "data": {
      "image/png": "[encoded data removed]",
      "text/plain": [
       "<Figure size 432x288 with 1 Axes>"
      ]
     },
     "metadata": {
      "needs_background": "light"
     },
     "output_type": "display_data"
    }
   ],
   "source": [
    "plt.scatter(x,y3) \n",
    "yhat = -0.0105*x + 0.2272 #These values are from Regression Table. 27.700 is Year coef and 335.1 is constant.\n",
    "fig = plt.plot(x,yhat, lw=4, c='orange', label = 'regression line') \n",
    "plt.xlabel('Year', fontsize = 20) \n",
    "plt.ylabel('Female Ratio', fontsize = 20) \n",
    "plt.xlim(0)\n",
    "plt.ylim(0)\n",
    "plt.title('Linear Regression for Female Ratio')\n",
    "plt.show()"
   ]
  },
  {
   "cell_type": "markdown",
   "metadata": {},
   "source": [
    "#### Results\n",
    "We can see from the regression table and our graph that the B value(coeffecient of x) is non-zero. Therefore, our Null-Hypothesis is not true. This implies that the female ratio is not constant over the years. \n",
    "\n",
    "Therefore, our Alternative Hypothesis is correct. Actually, the value of B = -0.0105 < 0. This is really discouraging as the it indicates that the participation of women is declining over the years in the field of Big Data. Even though the data points are less, the huge difference between the male and female ratio clearly represents the under-representation of women in tech. Therefore, the regression analysis supports our original hypothesis that female participation has not improved over the years.\n",
    "\n",
    "<br>\n",
    "\n",
    "Additionally, to validate our results, we will look at the p-value of the regression. The p-value is 0.007 which is very small that means we can rule out the possibility of getting this trend by chance. Additionally, smaller p-value means that our results are more inclind towards alternate hypothesis. <b>Therefore, we have successfully validated our results and can strongly conclude  based on these data points that women are under-represented in Big Data conferences.</b>"
   ]
  },
  {
   "cell_type": "markdown",
   "metadata": {},
   "source": [
    "<br>"
   ]
  },
  {
   "cell_type": "markdown",
   "metadata": {},
   "source": [
    "### <b>Hypothesis 3: The race ethnicity is unevenly distributed in the Big Data conferences.</b>"
   ]
  },
  {
   "cell_type": "markdown",
   "metadata": {},
   "source": [
    "In any conference, there are people who come from different cultural backgrounds, different countries, and different race ethnicity. This is an important factor such as diversity that leads to diffrent prespectives in a conference. A dominant group also tends to lead the direction in which the future of the field goes. Therefore, I chose this hypothesis to further analyse the participation of various groups in conference. "
   ]
  },
  {
   "cell_type": "markdown",
   "metadata": {},
   "source": [
    "We used NameSor tool to determine the race ethnicity of the participants. The data is based on the race ethnicity of US. US being full of people and immigrants from various cultures and race should be a good data set to determine the likely ethnicity of the participants."
   ]
  },
  {
   "cell_type": "markdown",
   "metadata": {},
   "source": [
    "<b> Data Representation </b>"
   ]
  },
  {
   "cell_type": "code",
   "execution_count": 17,
   "metadata": {
    "scrolled": true
   },
   "outputs": [
    {
     "data": {
      "image/png": "[encoded data removed]",
      "text/plain": [
       "<Figure size 432x288 with 1 Axes>"
      ]
     },
     "metadata": {
      "needs_background": "light"
     },
     "output_type": "display_data"
    }
   ],
   "source": [
    "import pandas as pd\n",
    "import numpy as np\n",
    "import matplotlib.pyplot as plt\n",
    "# data to plot\n",
    "# Read ethnicity data from the CSV file.\n",
    "ethnicity_data = pd.read_csv(\"ethnicity_data.csv\")\n",
    "\n",
    "# Year 1 corresponds to '2016' and similarly other index values map to consective years untill 2020 i.e. 5.\n",
    "x = ethnicity_data[\"Year\"]\n",
    "y1 = ethnicity_data[\"Asian\"]\n",
    "y2 = ethnicity_data[\"Black, Non Latino\"]\n",
    "y3 = ethnicity_data[\"Hispano Latino\"]\n",
    "y4 = ethnicity_data[\"White, Non Latino\"]\n",
    "\n",
    "\n",
    "# create a plot\n",
    "fig, ax = plt.subplots()\n",
    "index = np.arange(5)\n",
    "bar_width = 0.2\n",
    "opacity = 0.8\n",
    "\n",
    "rects1 = plt.bar(index, y1, bar_width,\n",
    "alpha=opacity,\n",
    "color='b',\n",
    "label='Asian')\n",
    "\n",
    "rects2 = plt.bar(index + bar_width, y2, bar_width,\n",
    "alpha=opacity,\n",
    "color='g',\n",
    "label='Black, Non Latino')\n",
    "\n",
    "rects3 = plt.bar(index + 2*bar_width, y3, bar_width,\n",
    "alpha=opacity,\n",
    "color='r',\n",
    "label='Hispano Latino')\n",
    "\n",
    "rects2 = plt.bar(index + 3*bar_width, y4, bar_width,\n",
    "alpha=opacity,\n",
    "color='y',\n",
    "label='White, Non Latino')\n",
    "\n",
    "plt.xlabel('Years')\n",
    "plt.ylabel('Race Ethnicity')\n",
    "plt.title('Race Ethnicity Percentages')\n",
    "plt.xticks(index + bar_width, \n",
    "           ('2016', '2017', '2018', '2019','2020'))\n",
    "plt.legend()\n",
    "\n",
    "plt.tight_layout()\n",
    "plt.show()\n"
   ]
  },
  {
   "cell_type": "markdown",
   "metadata": {},
   "source": [
    "Looking at the bar, graph we  can clearly see the race ethnicity distribution is not equal in the technology especially in Big Data. However, we need to verify our claim statisticly. \n",
    "\n",
    "To verify my claim, I will be using ANOVA F-test (Analysis of Variance).\n",
    "\n",
    "Therefore, we need a Null Hypothesis and Alternative Hypothesis.\n",
    "\n",
    "<b> Null Hypothesis: </b> The race ethnicity distribution is equal i.e. mean of each race group is equal.\n",
    "\n",
    "<b> Alternative Hypothesis: </b> Atleast one race group's mean is different. \n",
    "\n",
    "#### ANOVA F-Test"
   ]
  },
  {
   "cell_type": "code",
   "execution_count": 18,
   "metadata": {},
   "outputs": [
    {
     "data": {
      "text/plain": [
       "<matplotlib.axes._subplots.AxesSubplot at 0x7f089e4b6f10>"
      ]
     },
     "execution_count": 18,
     "metadata": {},
     "output_type": "execute_result"
    },
    {
     "data": {
      "image/png": "[encoded data removed]",
      "text/plain": [
       "<Figure size 432x288 with 1 Axes>"
      ]
     },
     "metadata": {
      "needs_background": "light"
     },
     "output_type": "display_data"
    }
   ],
   "source": [
    "# generate a boxplot to see the data distribution by race. Using boxplot, we can easily detect the differences \n",
    "# between different race ethnicity.\n",
    "ethnicity_data.boxplot(column=['Asian', 'Black, Non Latino', 'Hispano Latino', 'White, Non Latino'], grid=False)"
   ]
  },
  {
   "cell_type": "code",
   "execution_count": 19,
   "metadata": {},
   "outputs": [
    {
     "name": "stdout",
     "output_type": "stream",
     "text": [
      "30.63952673339499 7.261651535717692e-07\n"
     ]
    }
   ],
   "source": [
    "# load packages\n",
    "import scipy.stats as stats\n",
    "# stats f_oneway functions takes the groups as input and returns F and P-value\n",
    "fvalue, pvalue = stats.f_oneway(ethnicity_data['Asian'], ethnicity_data['Black, Non Latino'], \n",
    "                                ethnicity_data['Hispano Latino'], ethnicity_data['White, Non Latino'])\n",
    "print(fvalue, pvalue)"
   ]
  },
  {
   "cell_type": "markdown",
   "metadata": {},
   "source": [
    "<b> Result </b>\n",
    "\n",
    "Here we can clearly see that the result of <b>pvalue = 7.261651535717692e-07 </b>(P < 0.05). This implies that there is significant difference in the means of the all the race groups. Therefore, our null hypothesis is rejected. Our alternative hypothesis that atleast one group has different mean is accepted. Observing the graphs, I can clearly see Asian community dominating this space. The same observation was supported by our analysis. \n",
    "\n",
    "Another interesting point to note here is that, even though it is dominated by Asians, the conference in all the years were held in different cities across the US. The reason of this spike could be due to high participation of local Asian community or the representation of the international coommunity. Another possible reason could be, the field of Big Data is led by Asian ccommunity as it seems very popular amongsts them. <b>Therefore, our original  hypothesis is verified.</b>"
   ]
  },
  {
   "cell_type": "markdown",
   "metadata": {},
   "source": [
    "<br>\n",
    "\n"
   ]
  },
  {
   "cell_type": "markdown",
   "metadata": {},
   "source": [
    "### Summary\n",
    "\n",
    "In our report, we tested various hypothesis to determine the diveristy in participation of people in Big Data Conderences. In particular, we saw that population is increasing. We also saw that the ratio women attending these conferences is declining which is very concerning and needs to be addressed. Finally, we saw that according to the participation in this particular conference, we can say Asians are the most dominant ethnic group leading the field of Big Data. However, there could be multiple biases to this result due to many unknown factors. Therefore, in order to make a strong conclusion about this, we need to match the same trends with another conference in the same field."
   ]
  }
 ],
 "metadata": {
  "kernelspec": {
   "display_name": "Python 3",
   "language": "python",
   "name": "python3"
  },
  "language_info": {
   "codemirror_mode": {
    "name": "ipython",
    "version": 3
   },
   "file_extension": ".py",
   "mimetype": "text/x-python",
   "name": "python",
   "nbconvert_exporter": "python",
   "pygments_lexer": "ipython3",
   "version": "3.7.6"
  }
 },
 "nbformat": 4,
 "nbformat_minor": 4
}
