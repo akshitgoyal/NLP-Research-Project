{
 "cells": [
  {
   "cell_type": "code",
   "execution_count": 2,
   "metadata": {},
   "outputs": [
    {
     "name": "stdout",
     "output_type": "stream",
     "text": [
      "None\n"
     ]
    }
   ],
   "source": [
    "import requests\n",
    "import csv\n",
    "\n",
    "\n",
    "def analyse_names():\n",
    "    for year in [\"2016\", \"2017\", \"2018\", \"2019\", \"2020\"]:\n",
    "        reader = csv.reader(open(year+'.csv'))\n",
    "        population = 0\n",
    "        for name in reader:\n",
    "            first_name, last_name = extract_name(name)\n",
    "            if first_name is not None:\n",
    "                # print(first_name)\n",
    "                population += 1  # Count the number of participants.\n",
    "\n",
    "        # Create a csv file with each year's of data.\n",
    "        writer = csv.writer(open(\"population_data.csv\", 'a+'))\n",
    "        writer.writerow([year, population])\n",
    "\n",
    "    # return population\n",
    "\n",
    "\n",
    "\n",
    "# Helpers\n",
    "def extract_name(name):\n",
    "    \"\"\"\n",
    "    Reads the csv and extracts names by splitting them as first/last name so that\n",
    "    it can be passed to the API call.\n",
    "    Note: The extra cases could have been avoided while forming the CSV i.e.\n",
    "    improving on the design and structure of web scraper.\n",
    "    \"\"\"\n",
    "    if \"Keynote\" not in name[0] and \"Members\" not in name[0] and \"\" != name[0]:\n",
    "        if \"prof.\" in name[0].lower() or \"dr.\" in name[0].lower().strip():\n",
    "            full_name = name[0].split(\".\")[1].strip()\n",
    "            first_name = full_name.split(' ')[0]\n",
    "            last_name = full_name.split(' ')[1]\n",
    "        else:\n",
    "            full_name = name[0].strip().split(' ')\n",
    "            first_name = full_name[0]\n",
    "            last_name = full_name[1]\n",
    "        return first_name,last_name\n",
    "    return None,None\n",
    "\n",
    "\n",
    "if __name__ == \"__main__\":\n",
    "    a = analyse_names()\n",
    "\n"
   ]
  },
  {
   "cell_type": "markdown",
   "metadata": {},
   "source": [
    "### Import important libraries"
   ]
  },
  {
   "cell_type": "code",
   "execution_count": null,
   "metadata": {},
   "outputs": [],
   "source": [
    "import numpy as np\n",
    "import pandas as pd \n",
    "import matplotlib.pyplot as plt \n",
    "import statsmodels.api as sm\n",
    "\n",
    "data = pd.read_csv(‘population_data.csv’)\n",
    "data.describe()"
   ]
  }
 ],
 "metadata": {
  "kernelspec": {
   "display_name": "Python 3",
   "language": "python",
   "name": "python3"
  },
  "language_info": {
   "codemirror_mode": {
    "name": "ipython",
    "version": 3
   },
   "file_extension": ".py",
   "mimetype": "text/x-python",
   "name": "python",
   "nbconvert_exporter": "python",
   "pygments_lexer": "ipython3",
   "version": "3.8.3"
  }
 },
 "nbformat": 4,
 "nbformat_minor": 4
}
